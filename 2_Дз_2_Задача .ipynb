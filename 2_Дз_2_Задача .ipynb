{
 "cells": [
  {
   "cell_type": "markdown",
   "id": "89901871",
   "metadata": {},
   "source": [
    "# Задача 2"
   ]
  },
  {
   "cell_type": "markdown",
   "id": "5d8968e5",
   "metadata": {},
   "source": [
    "Написать код для решения задачи оптимизации параметров промежуточного перегрева P_пп и t_пп для свободных начальных параметров p_0,t_0, p_к. Сделаем допущение, что начальная точка процесса расширения всегда находится в зоне перегретого пара. Решение должно выдавать параметры промежуточного перегрева и термический КПД при них."
   ]
  },
  {
   "cell_type": "code",
   "execution_count": 1,
   "id": "ca1dbdb6",
   "metadata": {},
   "outputs": [],
   "source": [
    "import iapws\n",
    "import array\n",
    "from typing import Optional, Tuple, List, Union\n",
    "from iapws import IAPWS97 as gas\n",
    "from scipy.optimize import minimize\n",
    "import numpy as np\n",
    "point_type = iapws.iapws97.IAPWS97"
   ]
  },
  {
   "cell_type": "code",
   "execution_count": 2,
   "id": "bb250787",
   "metadata": {},
   "outputs": [],
   "source": [
    "MPa = 10 ** 6\n",
    "kPa = 10 ** 3\n",
    "unit = 1 / MPa\n",
    "to_kelvin = lambda x: x + 273.15 if x else None"
   ]
  },
  {
   "cell_type": "code",
   "execution_count": 3,
   "id": "5f93054b",
   "metadata": {},
   "outputs": [],
   "source": [
    "def check_is_valid_numerical(values: List[Union[None, float]]) -> None:\n",
    "    for value in values:\n",
    "        if value:\n",
    "            if not isinstance(value, (int, float)):\n",
    "                raise ValueError(f\"Argument should be int or float value! Given {type(value)}\")\n",
    "def construct_cycle_points(\n",
    "    p_0: Union[int, float],\n",
    "    p_k: Union[int, float],\n",
    "    p_middle: Union[int, float],\n",
    "    t_0: Optional[Union[int, float]] = None,\n",
    "    t_middle: Optional[Union[int, float]] = None,\n",
    "    x_0: Optional[Union[int, float]] = None,\n",
    ") -> Tuple[point_type, point_type, point_type]:\n",
    "    check_is_valid_numerical([p_0, p_k, p_middle, t_0, t_middle, x_0])\n",
    "    if not t_0 and not x_0:\n",
    "        raise ValueError(\"Neither t_0 not x_0 is not provided for start expansion point!\")\n",
    "    if not (p_0 and p_k):\n",
    "        raise ValueError(\"P_0 and p_k must be specified!\")\n",
    "    if x_0 and (x_0 > 1 or x_0 < 0):\n",
    "        raise ValueError(\"x_0 should be between 0 and 1\")\n",
    "        \n",
    "    point_0_start = gas(P=p_0 * unit, T=t_0)\n",
    "    point_0_end = gas(P=p_middle * unit, s=point_0_start.s)\n",
    "    point_1_start = gas(P=p_middle * unit, T=t_middle)\n",
    "    point_condenser = gas(P=p_k * unit, s=point_1_start.s)\n",
    "    point_pump = gas(P=p_k * unit, x=0)\n",
    "    \n",
    "    return point_0_start, point_0_end, point_1_start, point_condenser, point_pump\n",
    "\n",
    "def compute_cycle_efficiency(point_0_start: point_type, point_0_end: point_type, point_1_start: point_type, point_condenser: point_type, point_pump: point_type) -> float:\n",
    "    useful_energy = (point_0_start.h - point_0_end.h) + (point_1_start.h - point_condenser.h)\n",
    "    full_energy = (point_0_start.h - point_pump.h) + (point_1_start.h - point_0_end.h)\n",
    "    efficiency = useful_energy/full_energy\n",
    "    return efficiency\n",
    "def solve_exercise(\n",
    "    p_0: Union[int, float],\n",
    "    p_k: Union[int, float],\n",
    "    p_middle: Union[int, float],\n",
    "    t_0: Optional[Union[int, float]],\n",
    "    t_middle: Optional[Union[int, float]],\n",
    "    x_0: Optional[Union[int, float]] = None,) -> float:\n",
    "    point_0_start, point_0_end, point_1_start, point_condenser, point_pump = construct_cycle_points(\n",
    "        p_0=p_0,\n",
    "        p_k=p_k,\n",
    "        p_middle=p_middle,\n",
    "        t_0=to_kelvin(t_0),\n",
    "        t_middle=to_kelvin(t_middle),\n",
    "        x_0=x_0\n",
    "    )\n",
    "    \n",
    "    efficiency = compute_cycle_efficiency(point_0_start=point_0_start, point_0_end=point_0_end, point_1_start=point_1_start, point_condenser=point_condenser, point_pump=point_pump)\n",
    "    \n",
    "    return efficiency"
   ]
  },
  {
   "cell_type": "code",
   "execution_count": 7,
   "id": "64857d06",
   "metadata": {
    "scrolled": false
   },
   "outputs": [],
   "source": [
    "def calculation_optinal_params( p_0: Union[int, float],t_0: Union[int, float], p_k: Union[int, float]):\n",
    "    def loss_function(middle_params, p_0 = p_0, t_0 = t_0, p_k = p_k):\n",
    "        p_div_p_0, t_div_t_0 = middle_params[0], middle_params[1]\n",
    "        p_middle = p_0 * p_div_p_0\n",
    "        t_middle = t_0 * t_div_t_0\n",
    "        efficiency = solve_exercise(p_0=p_0, p_k=p_k, p_middle = p_middle, t_0 = t_0 , t_middle = t_middle)\n",
    "        return 1 - efficiency\n",
    "    initial_params = np.array([0.5, 0.5])\n",
    "    bounds = ([0.01, 1], [0.01, 1])\n",
    "    result = minimize(loss_function, x0 = initial_params, bounds = bounds, tol = 1e-8)\n",
    "    p_div_p_0, t_div_t_0 = result.x\n",
    "    p_middle = p_div_p_0 * p_0\n",
    "    t_middle = t_div_t_0 * t_0\n",
    "    return p_middle, t_middle"
   ]
  },
  {
   "cell_type": "code",
   "execution_count": 10,
   "id": "42f2d682",
   "metadata": {},
   "outputs": [
    {
     "name": "stdout",
     "output_type": "stream",
     "text": [
      "Давление промперегрева 2.529311401367408 MPa\n",
      "Температура промперегрева 540.0 °C\n"
     ]
    }
   ],
   "source": [
    "p_0 = 12\n",
    "p_0 = p_0 * MPa\n",
    "t_0 = 540\n",
    "p_k = 5\n",
    "p_k = p_k * kPa\n",
    "rez = (calculation_optinal_params(p_0,t_0,p_k))\n",
    "print(\"Давление промперегрева\",rez[0]*unit,\"MPa\")\n",
    "print(\"Температура промперегрева\",rez[1],\"°C\")"
   ]
  },
  {
   "cell_type": "code",
   "execution_count": null,
   "id": "55aebaf5",
   "metadata": {},
   "outputs": [],
   "source": []
  },
  {
   "cell_type": "code",
   "execution_count": null,
   "id": "3bcace9a",
   "metadata": {},
   "outputs": [],
   "source": []
  },
  {
   "cell_type": "code",
   "execution_count": null,
   "id": "c5eb67c7",
   "metadata": {},
   "outputs": [],
   "source": []
  },
  {
   "cell_type": "code",
   "execution_count": null,
   "id": "d274e74f",
   "metadata": {},
   "outputs": [],
   "source": []
  }
 ],
 "metadata": {
  "kernelspec": {
   "display_name": "Python 3 (ipykernel)",
   "language": "python",
   "name": "python3"
  },
  "language_info": {
   "codemirror_mode": {
    "name": "ipython",
    "version": 3
   },
   "file_extension": ".py",
   "mimetype": "text/x-python",
   "name": "python",
   "nbconvert_exporter": "python",
   "pygments_lexer": "ipython3",
   "version": "3.10.7"
  }
 },
 "nbformat": 4,
 "nbformat_minor": 5
}
