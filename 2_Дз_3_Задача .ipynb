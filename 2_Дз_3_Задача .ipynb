{
 "cells": [
  {
   "cell_type": "markdown",
   "id": "f0cdca68",
   "metadata": {},
   "source": [
    "# Задача 3"
   ]
  },
  {
   "cell_type": "markdown",
   "id": "9352ee95",
   "metadata": {},
   "source": [
    "При удельных расходах водяного пара d01= 3,0 кг/(кВт·ч) d02и = 3,6 кг/(кВт·ч) оценить удельные расходы теплоты на выработку электроэнергии, приняв разность энтальпий  h0–hпв = 2500 кДж/кг."
   ]
  },
  {
   "cell_type": "code",
   "execution_count": 1,
   "id": "354c5d99",
   "metadata": {},
   "outputs": [],
   "source": [
    "import iapws\n",
    "from iapws import IAPWS97 as gas"
   ]
  },
  {
   "cell_type": "code",
   "execution_count": 2,
   "id": "7bfe8095",
   "metadata": {},
   "outputs": [],
   "source": [
    "def expenditure (d0, h0_hpv):\n",
    "    Qty = d0 * (h0_hpv)\n",
    "    return Qty"
   ]
  },
  {
   "cell_type": "code",
   "execution_count": 3,
   "id": "b8f31791",
   "metadata": {},
   "outputs": [],
   "source": [
    "d0 = [3.0, 3.6] \n",
    "h0_hpv = 2500"
   ]
  },
  {
   "cell_type": "code",
   "execution_count": 4,
   "id": "a928c6c6",
   "metadata": {},
   "outputs": [
    {
     "name": "stdout",
     "output_type": "stream",
     "text": [
      "[7500.0, 9000.0] кДж/кВт*ч\n"
     ]
    }
   ],
   "source": [
    "exp = []\n",
    "for d0value in d0:\n",
    "    exp.append(expenditure(d0value,h0_hpv))\n",
    "print(exp,'кДж/кВт*ч')"
   ]
  },
  {
   "cell_type": "code",
   "execution_count": null,
   "id": "2ed2bf89",
   "metadata": {},
   "outputs": [],
   "source": []
  },
  {
   "cell_type": "code",
   "execution_count": null,
   "id": "e84cf81a",
   "metadata": {},
   "outputs": [],
   "source": []
  }
 ],
 "metadata": {
  "kernelspec": {
   "display_name": "Python 3 (ipykernel)",
   "language": "python",
   "name": "python3"
  },
  "language_info": {
   "codemirror_mode": {
    "name": "ipython",
    "version": 3
   },
   "file_extension": ".py",
   "mimetype": "text/x-python",
   "name": "python",
   "nbconvert_exporter": "python",
   "pygments_lexer": "ipython3",
   "version": "3.10.7"
  }
 },
 "nbformat": 4,
 "nbformat_minor": 5
}
