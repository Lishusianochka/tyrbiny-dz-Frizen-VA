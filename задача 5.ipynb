{
  "nbformat": 4,
  "nbformat_minor": 0,
  "metadata": {
    "colab": {
      "provenance": [],
      "authorship_tag": "ABX9TyNQ3u+LNJwPCxYpoMaKtbcJ",
      "include_colab_link": true
    },
    "kernelspec": {
      "name": "python3",
      "display_name": "Python 3"
    },
    "language_info": {
      "name": "python"
    }
  },
  "cells": [
    {
      "cell_type": "markdown",
      "metadata": {
        "id": "view-in-github",
        "colab_type": "text"
      },
      "source": [
        "<a href=\"https://colab.research.google.com/github/Lishusianochka/tyrbiny-dz-Frizen-VA/blob/5-%D0%B4%D0%B7/%D0%B7%D0%B0%D0%B4%D0%B0%D1%87%D0%B0%205.ipynb\" target=\"_parent\"><img src=\"https://colab.research.google.com/assets/colab-badge.svg\" alt=\"Open In Colab\"/></a>"
      ]
    },
    {
      "cell_type": "code",
      "execution_count": null,
      "metadata": {
        "id": "0feKC0l3wS1y"
      },
      "outputs": [],
      "source": []
    },
    {
      "cell_type": "markdown",
      "source": [
        "Фризен В.А. ТФэ-01-20 Lishusianochka"
      ],
      "metadata": {
        "id": "0V_CXhBDwTYr"
      }
    },
    {
      "cell_type": "code",
      "source": [
        "!pip install iapws\n",
        "import iapws\n",
        "from iapws import IAPWS97 as gas\n",
        "\n",
        "MPa = 10 ** 6\n",
        "kPa = 10 ** 3\n",
        "unit = 1 / MPa\n",
        "to_kelvin = lambda x: x + 273.15 if x else None\n",
        "#Исходные данные\n",
        "electrical_power = 250 * (10 ** 6)\n",
        "p0 = 12.8 * MPa\n",
        "t0 = 540\n",
        "pk = 6.9 * kPa\n",
        "t_feed_water = 263\n",
        "p_feed_water = 1.4 * p0\n",
        "\n",
        "z = 8\n",
        "\n",
        "internal_efficiency = 0.83\n",
        "mechanical_efficiency = 0.992\n",
        "generator_efficiency = 0.99\n",
        "delta_p0 = 0.05 * p0\n",
        "\n",
        "real_p0 = p0 - delta_p0\n",
        "#teor - теоретические точки\n",
        "#d - действительные(реальные)\n",
        "point_0_teor = gas(P = p0 * unit, T = to_kelvin(t0))\n",
        "point_0_d = gas(P = real_p0 * unit, h = point_0_teor.h)\n",
        "\n",
        "point_2_teor = gas(P = pk * unit, s = point_0_teor.s)\n",
        "heat_drop_d = (point_0_teor.h - point_2_teor.h) * internal_efficiency\n",
        "h_2_d = point_0_d.h - heat_drop_d\n",
        "point_2_d = gas(P = pk * unit, h = h_2_d)\n",
        "\n",
        "point_k_water = gas(P = pk * unit, x = 0)\n",
        "point_feed_water = gas(P = p_feed_water * unit, T = to_kelvin(t_feed_water))\n",
        "\n",
        "numenator_without = (point_0_teor.s - point_k_water.s) * point_2_d.T\n",
        "denumenator_without = (point_0_d.h - point_k_water.h)\n",
        "without_part = 1 - (numenator_without / denumenator_without)\n",
        "\n",
        "numenator_infinity = point_2_d.T * (point_0_teor.s - point_feed_water.s)\n",
        "denumenator_infinity = (point_0_d.h - point_feed_water.h)\n",
        "infinity_part = 1 - (numenator_infinity / denumenator_infinity)\n",
        "\n",
        "ksi_infinity = 1 - (without_part / infinity_part)\n",
        "\n",
        "coeff = (point_feed_water.T - point_2_d.T) / (to_kelvin(374.2) - point_2_d.T)\n",
        "print(\"Коэффициент:\", coeff)\n",
        "\n",
        "ksi = 0.83 * ksi_infinity\n",
        "\n",
        "eff_num = heat_drop_d\n",
        "eff_denum = (point_0_d.h - point_k_water.h)\n",
        "\n",
        "efficiency = (eff_num / eff_denum) * (1 / (1 - ksi))\n",
        "print(\"КПД:\", round(efficiency * 100,3),\"%\")\n",
        "\n",
        "estimated_heat_drop = efficiency * (point_0_d.h - point_feed_water.h)\n",
        "\n",
        "inlet_mass_flow = electrical_power / (estimated_heat_drop * 1000 * mechanical_efficiency * generator_efficiency)\n",
        "\n",
        "condenser_mass_flow = (\n",
        "electrical_power /\n",
        "((point_0_d.h - point_k_water.h) * 1000 * mechanical_efficiency * generator_efficiency) * ((1 / efficiency) - 1)\n",
        ")\n",
        "\n",
        "print(\"Массовый расход в турбину на входе\", inlet_mass_flow)\n",
        "print(\"Массовый расход в конденсатор:\", condenser_mass_flow)"
      ],
      "metadata": {
        "colab": {
          "base_uri": "https://localhost:8080/"
        },
        "id": "y6RXUOJWwamG",
        "outputId": "fb587f01-dc58-45d9-b4f5-88ff88645660"
      },
      "execution_count": 1,
      "outputs": [
        {
          "output_type": "stream",
          "name": "stdout",
          "text": [
            "Looking in indexes: https://pypi.org/simple, https://us-python.pkg.dev/colab-wheels/public/simple/\n",
            "Collecting iapws\n",
            "  Downloading iapws-1.5.3.tar.gz (111 kB)\n",
            "\u001b[K     |████████████████████████████████| 111 kB 24.9 MB/s \n",
            "\u001b[?25hRequirement already satisfied: scipy>=1.2 in /usr/local/lib/python3.8/dist-packages (from iapws) (1.7.3)\n",
            "Requirement already satisfied: numpy<1.23.0,>=1.16.5 in /usr/local/lib/python3.8/dist-packages (from scipy>=1.2->iapws) (1.21.6)\n",
            "Building wheels for collected packages: iapws\n",
            "  Building wheel for iapws (setup.py) ... \u001b[?25l\u001b[?25hdone\n",
            "  Created wheel for iapws: filename=iapws-1.5.3-py3-none-any.whl size=114282 sha256=6a811a46c625f4159dc8eecb2c27256d57fcf71e82e69ed006aa63c9cfd74c90\n",
            "  Stored in directory: /root/.cache/pip/wheels/66/b4/cb/ef55293a897beaad4f10f2fc5d7f9e43bc29170568c52850c2\n",
            "Successfully built iapws\n",
            "Installing collected packages: iapws\n",
            "Successfully installed iapws-1.5.3\n",
            "Коэффициент: 0.668521593152601\n",
            "КПД: 40.145 %\n",
            "Массовый расход в турбину на входе 275.8179044765468\n",
            "Массовый расход в конденсатор: 115.53893749386874\n"
          ]
        }
      ]
    }
  ]
}